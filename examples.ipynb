{
 "cells": [
  {
   "cell_type": "markdown",
   "metadata": {},
   "source": [
    "MC and RQMC examples"
   ]
  },
  {
   "cell_type": "code",
   "execution_count": 13,
   "metadata": {
    "ExecuteTime": {
     "end_time": "2019-05-23T20:25:32.232754Z",
     "start_time": "2019-05-23T20:25:32.099020Z"
    }
   },
   "outputs": [],
   "source": [
    "# use future imports for python 3.x forward compatibility\n",
    "from __future__ import print_function\n",
    "from __future__ import division\n",
    "from __future__ import absolute_import\n",
    "\n",
    "# other imports\n",
    "import random\n",
    "import math\n",
    "import numpy\n",
    "import matplotlib.pyplot as plt\n",
    "from mpl_toolkits.mplot3d import axes3d\n",
    "%matplotlib notebook\n",
    "\n",
    "# project imports\n",
    "import rand\n",
    "import halton\n",
    "import bfs"
   ]
  },
  {
   "cell_type": "markdown",
   "metadata": {},
   "source": [
    "Example 1:\n",
    "A paradigmatic example of a Monte Carlo integration is the estimation of π.  \n",
    "Adapted from: https://en.wikipedia.org/wiki/Monte_Carlo_integration"
   ]
  },
  {
   "cell_type": "code",
   "execution_count": 14,
   "metadata": {
    "ExecuteTime": {
     "end_time": "2019-05-23T20:25:47.145167Z",
     "start_time": "2019-05-23T20:25:32.238210Z"
    }
   },
   "outputs": [
    {
     "name": "stdout",
     "output_type": "stream",
     "text": [
      "..........[3.138592, 3.140884, 3.139992, 3.138816, 3.139672, 3.144516, 3.141796, 3.13948, 3.143004, 3.139608]\n"
     ]
    }
   ],
   "source": [
    "throws = 1000000\n",
    "\n",
    "s = 2\n",
    "m = 10\n",
    "seq = rand.rand_seq\n",
    "seq = halton.halton_seq\n",
    "seq = bfs.bfs_seq\n",
    "\n",
    "pi = []\n",
    "for i in range(m):\n",
    "    rseq = seq(s=2, N=throws)\n",
    "    circleDarts = 0\n",
    "    for j in range(throws):\n",
    "        x = rseq[j][0]\n",
    "        y = rseq[j][1]\n",
    "        if 1 > x*x + y*y:\n",
    "            circleDarts += 1\n",
    "    pi.append(4 * (circleDarts/throws))\n",
    "    print('.', end='')\n",
    "\n",
    "print(pi)"
   ]
  },
  {
   "cell_type": "code",
   "execution_count": 15,
   "metadata": {
    "ExecuteTime": {
     "end_time": "2019-05-23T20:25:47.164169Z",
     "start_time": "2019-05-23T20:25:47.149581Z"
    }
   },
   "outputs": [
    {
     "name": "stdout",
     "output_type": "stream",
     "text": [
      "mean = 3.140636\n",
      "standard deviation = 1.82e-03\n"
     ]
    }
   ],
   "source": [
    "# print the mean and std\n",
    "theta = numpy.array(pi)\n",
    "mean = theta.mean()\n",
    "std = theta.std()\n",
    "print('mean = {}'.format(mean))\n",
    "print('standard deviation = {:.2e}'.format(std))"
   ]
  },
  {
   "cell_type": "code",
   "execution_count": 16,
   "metadata": {
    "ExecuteTime": {
     "end_time": "2019-05-23T20:25:47.180139Z",
     "start_time": "2019-05-23T20:25:47.167989Z"
    }
   },
   "outputs": [
    {
     "name": "stdout",
     "output_type": "stream",
     "text": [
      "exact = 3.14159265359\n",
      "error = 3.05e-02%\n"
     ]
    }
   ],
   "source": [
    "exact= math.pi\n",
    "print('exact = {}'.format(exact))\n",
    "error = abs(mean - exact) / exact * 100\n",
    "print('error = {:.2e}%'.format(error))"
   ]
  }
 ],
 "metadata": {
  "kernelspec": {
   "display_name": "Python 2",
   "language": "python",
   "name": "python2"
  },
  "language_info": {
   "codemirror_mode": {
    "name": "ipython",
    "version": 2
   },
   "file_extension": ".py",
   "mimetype": "text/x-python",
   "name": "python",
   "nbconvert_exporter": "python",
   "pygments_lexer": "ipython2",
   "version": "2.7.15rc1"
  },
  "latex_envs": {
   "LaTeX_envs_menu_present": true,
   "autoclose": false,
   "autocomplete": true,
   "bibliofile": "biblio.bib",
   "cite_by": "apalike",
   "current_citInitial": 1,
   "eqLabelWithNumbers": true,
   "eqNumInitial": 1,
   "hotkeys": {
    "equation": "Ctrl-E",
    "itemize": "Ctrl-I"
   },
   "labels_anchors": false,
   "latex_user_defs": false,
   "report_style_numbering": false,
   "user_envs_cfg": false
  }
 },
 "nbformat": 4,
 "nbformat_minor": 2
}
