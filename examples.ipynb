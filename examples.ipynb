{
 "cells": [
  {
   "cell_type": "markdown",
   "metadata": {},
   "source": [
    "MC and RQMC examples"
   ]
  },
  {
   "cell_type": "code",
   "execution_count": 1,
   "metadata": {
    "ExecuteTime": {
     "end_time": "2019-05-23T20:25:32.232754Z",
     "start_time": "2019-05-23T20:25:32.099020Z"
    }
   },
   "outputs": [],
   "source": [
    "# imports\n",
    "import random\n",
    "import math\n",
    "import numpy\n",
    "import matplotlib.pyplot as plt\n",
    "from mpl_toolkits.mplot3d import axes3d\n",
    "%matplotlib notebook\n",
    "\n",
    "# project imports\n",
    "import rand\n",
    "import halton\n",
    "import bfs"
   ]
  },
  {
   "cell_type": "markdown",
   "metadata": {},
   "source": [
    "Example 1:\n",
    "A paradigmatic example of a Monte Carlo integration is the estimation of π.  \n",
    "Adapted from: https://en.wikipedia.org/wiki/Monte_Carlo_integration"
   ]
  },
  {
   "cell_type": "code",
   "execution_count": 2,
   "metadata": {
    "ExecuteTime": {
     "end_time": "2019-05-23T20:25:47.145167Z",
     "start_time": "2019-05-23T20:25:32.238210Z"
    }
   },
   "outputs": [
    {
     "name": "stdout",
     "output_type": "stream",
     "text": [
      "partitions per dimension = 1000.00\n",
      "[1000, 1000]\n",
      ".partitions per dimension = 1000.00\n",
      "[1000, 1000]\n",
      ".partitions per dimension = 1000.00\n",
      "[1000, 1000]\n",
      ".partitions per dimension = 1000.00\n",
      "[1000, 1000]\n",
      ".partitions per dimension = 1000.00\n",
      "[1000, 1000]\n",
      ".partitions per dimension = 1000.00\n",
      "[1000, 1000]\n",
      ".partitions per dimension = 1000.00\n",
      "[1000, 1000]\n",
      ".partitions per dimension = 1000.00\n",
      "[1000, 1000]\n",
      ".partitions per dimension = 1000.00\n",
      "[1000, 1000]\n",
      ".partitions per dimension = 1000.00\n",
      "[1000, 1000]\n",
      ".[3.141556, 3.141552, 3.14164, 3.14154, 3.141576, 3.141648, 3.141652, 3.14164, 3.141636, 3.141724]\n"
     ]
    }
   ],
   "source": [
    "throws = 1000000\n",
    "\n",
    "s = 2\n",
    "m = 10\n",
    "seq = rand.rand_seq\n",
    "seq = halton.halton_seq\n",
    "seq = bfs.bfs_seq\n",
    "\n",
    "pi = []\n",
    "for i in range(m):\n",
    "    rseq = seq(s=2, N=throws)\n",
    "    circleDarts = 0\n",
    "    for j in range(throws):\n",
    "        x = rseq[j][0]\n",
    "        y = rseq[j][1]\n",
    "        if 1 > x*x + y*y:\n",
    "            circleDarts += 1\n",
    "    pi.append(4 * (circleDarts/throws))\n",
    "    print('.', end='')\n",
    "\n",
    "print(pi)"
   ]
  },
  {
   "cell_type": "code",
   "execution_count": 3,
   "metadata": {
    "ExecuteTime": {
     "end_time": "2019-05-23T20:25:47.164169Z",
     "start_time": "2019-05-23T20:25:47.149581Z"
    }
   },
   "outputs": [
    {
     "name": "stdout",
     "output_type": "stream",
     "text": [
      "mean = 3.1416163999999998\n",
      "standard deviation = 5.53e-05\n"
     ]
    }
   ],
   "source": [
    "# print the mean and std\n",
    "theta = numpy.array(pi)\n",
    "mean = theta.mean()\n",
    "std = theta.std()\n",
    "print('mean = {}'.format(mean))\n",
    "print('standard deviation = {:.2e}'.format(std))"
   ]
  },
  {
   "cell_type": "code",
   "execution_count": 4,
   "metadata": {
    "ExecuteTime": {
     "end_time": "2019-05-23T20:25:47.180139Z",
     "start_time": "2019-05-23T20:25:47.167989Z"
    }
   },
   "outputs": [
    {
     "name": "stdout",
     "output_type": "stream",
     "text": [
      "exact = 3.141592653589793\n",
      "error = 7.56e-04%\n"
     ]
    }
   ],
   "source": [
    "exact= math.pi\n",
    "print('exact = {}'.format(exact))\n",
    "error = abs(mean - exact) / exact * 100\n",
    "print('error = {:.2e}%'.format(error))"
   ]
  }
 ],
 "metadata": {
  "kernelspec": {
   "display_name": "Python 3",
   "language": "python",
   "name": "python3"
  },
  "language_info": {
   "codemirror_mode": {
    "name": "ipython",
    "version": 3
   },
   "file_extension": ".py",
   "mimetype": "text/x-python",
   "name": "python",
   "nbconvert_exporter": "python",
   "pygments_lexer": "ipython3",
   "version": "3.8.2"
  },
  "latex_envs": {
   "LaTeX_envs_menu_present": true,
   "autoclose": false,
   "autocomplete": true,
   "bibliofile": "biblio.bib",
   "cite_by": "apalike",
   "current_citInitial": 1,
   "eqLabelWithNumbers": true,
   "eqNumInitial": 1,
   "hotkeys": {
    "equation": "Ctrl-E",
    "itemize": "Ctrl-I"
   },
   "labels_anchors": false,
   "latex_user_defs": false,
   "report_style_numbering": false,
   "user_envs_cfg": false
  }
 },
 "nbformat": 4,
 "nbformat_minor": 2
}
