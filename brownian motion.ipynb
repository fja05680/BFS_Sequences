{
 "cells": [
  {
   "cell_type": "markdown",
   "metadata": {},
   "source": [
    "# brownian motion\n",
    "\n",
    "Consider a European call option with parameters: T = expiry = 1, K = exercise price = 50; r = 0.1; σ = 0.3; $S_0$ = 50.\n",
    "\n",
    "(a) Compute the Black-Scholes-Merton price of the option, i.e., the exact option price.\n",
    "\n",
    "(b) Use random-shift Halton sequences to obtain 40 “independent” estimates for the price of the option. For each estimate, use N = 10,000 price paths. To simulate a path, you will simulate the geometric Brownian motion model with μ = r, and using 10 time steps $t_0$ = 0, $t_1$ = ∆t, $t_2$ = 2∆t, ..., $t_{10}$ = 10∆t = T.  Use the Box-Muller method to generate the standard normal numbers.  (Note that the European call option can actually be estimated by directly generating the price at expiry, so there is no need to generate the complete price path. Nevertheless, this problem prepares you for the pricing of path dependent options.)\n",
    "\n",
    "(c) Repeat part (b) using Beasley-Springer-Moro algorithm.\n",
    "\n",
    "(d) Compare the accuracy of the estimates you obtained in parts (b) and (c) as follows: Each set\n",
    "of 40 estimates should be distributed according to the normal distribution whose mean is the\n",
    "true option price you found in part (a), and an unknown variance. Apply the Anderson-Darling\n",
    "statistic to test the data you obtained in parts (b) and (c), for this hypothesis. Consult Stephens’\n",
    "paper on Anderson-Darling statistic for critical points. Which one of the cases discussed in the\n",
    "paper applies to this problem? What are your conclusions for each data set? Which method is\n",
    "better; Box-Muller or Moro?"
   ]
  },
  {
   "cell_type": "code",
   "execution_count": 55,
   "metadata": {
    "ExecuteTime": {
     "end_time": "2019-05-24T08:04:08.849155Z",
     "start_time": "2019-05-24T08:04:08.824583Z"
    }
   },
   "outputs": [],
   "source": [
    "# use future imports for python 3.x forward compatibility\n",
    "from __future__ import print_function\n",
    "from __future__ import division\n",
    "from __future__ import absolute_import\n",
    "\n",
    "# other imports\n",
    "import math\n",
    "import numpy\n",
    "import random\n",
    "from scipy.stats import anderson\n",
    "import matplotlib.pyplot as plt\n",
    "%matplotlib notebook\n",
    "\n",
    "# project imports\n",
    "import rand\n",
    "import halton\n",
    "import bfs\n",
    "import box_muller as bm\n",
    "import beasley_springer_moro as moro\n",
    "import anderson"
   ]
  },
  {
   "cell_type": "markdown",
   "metadata": {
    "ExecuteTime": {
     "end_time": "2019-03-24T19:19:43.948760Z",
     "start_time": "2019-03-24T19:19:43.942918Z"
    }
   },
   "source": [
    "### Compute the Black-Scholes-Merton price of the option, i.e., the exact option price.\n",
    "\n",
    "Reference:\n",
    "John C. Hull (2003), \"Options, Futures, and Other Derivatives\", 5th Edition, pg. 246-249"
   ]
  },
  {
   "cell_type": "code",
   "execution_count": 56,
   "metadata": {
    "ExecuteTime": {
     "end_time": "2019-05-24T08:04:08.917100Z",
     "start_time": "2019-05-24T08:04:08.857044Z"
    }
   },
   "outputs": [],
   "source": [
    "def _Np(x):\n",
    "    return math.exp(-0.5*x*x)/(math.sqrt(2*math.pi))\n",
    "\n",
    "def _N(x):\n",
    "    ''' N(x) is the CDF for the standard normal ditribution '''\n",
    "    \n",
    "    x_orig = x\n",
    "    x = abs(x)\n",
    "\n",
    "    a1 =  0.319381530;  a2 = -0.356563782;  a3 =  1.781477937;\n",
    "    a4 = -1.821255978;  a5 =  1.330274429;\n",
    "    \n",
    "    y = 0.2316419\n",
    "    k = 1/(1 + y*x);\n",
    "    \n",
    "    m = 1 - _Np(x)*(a1*k + a2*k**2 + a3*k**3 + a4*k**4 + a5*k**5)\n",
    "    \n",
    "    if x_orig < 0:\n",
    "        m = 1 - m\n",
    "    \n",
    "    return m\n",
    "\n",
    "def _d1(S0, K, r, sigma, T):\n",
    "    return (math.log(S0/K) + (r + 0.5*sigma**2)*T)/(sigma*math.sqrt(T))\n",
    "    \n",
    "def _d2(S0, K, r, sigma, T):\n",
    "    return (math.log(S0/K) + (r - 0.5*sigma**2)*T)/(sigma*math.sqrt(T))\n",
    "\n",
    "def call_price(S0, K, r, sigma, T):\n",
    "    ''' European call option price '''\n",
    "    \n",
    "    d1 = _d1(S0, K, r, sigma, T)\n",
    "    d2 = _d2(S0, K, r, sigma, T)\n",
    "    \n",
    "    c = S0 * _N(d1) - K * math.exp(-r*T) * _N(d2)\n",
    "    return c;\n",
    "\n",
    "def put_price(S0, K, r, sigma, T):\n",
    "    ''' European call option price '''\n",
    "    \n",
    "    d1 = _d1(S0, K, r, sigma, T)\n",
    "    d2 = _d2(S0, K, r, sigma, T)\n",
    "    p = K * math.exp(-r*T) * _N(-d2) - S0 * _N(-d1)\n",
    "    return p;"
   ]
  },
  {
   "cell_type": "code",
   "execution_count": 57,
   "metadata": {
    "ExecuteTime": {
     "end_time": "2019-05-24T08:04:08.939052Z",
     "start_time": "2019-05-24T08:04:08.925211Z"
    }
   },
   "outputs": [
    {
     "name": "stdout",
     "output_type": "stream",
     "text": [
      "call option price = 4.76\n",
      "put  option price = 0.81\n"
     ]
    }
   ],
   "source": [
    "# from Hull example pg. 249, compare to c=4.76, p=0.81\n",
    "S0 = 42; K = 40; r = 0.1; sigma = 0.2; T = 0.5\n",
    "c = call_price(S0, K, r, sigma, T)\n",
    "p = put_price(S0, K, r, sigma, T)\n",
    "print('call option price = {:.2f}'.format(c))\n",
    "print('put  option price = {:.2f}'.format(p))"
   ]
  },
  {
   "cell_type": "markdown",
   "metadata": {},
   "source": [
    "### (a) Compute the Black-Scholes-Merton price of the option, i.e., the exact option price.\n",
    "\n",
    "T = expiry = 1, K = exercise price = 50; r = 0.1; σ = 0.3; $S_0$ = 50.\n",
    "\n",
    "check answer:\n",
    "https://goodcalculators.com/black-scholes-calculator/"
   ]
  },
  {
   "cell_type": "code",
   "execution_count": 58,
   "metadata": {
    "ExecuteTime": {
     "end_time": "2019-05-24T08:04:08.958052Z",
     "start_time": "2019-05-24T08:04:08.943276Z"
    }
   },
   "outputs": [
    {
     "name": "stdout",
     "output_type": "stream",
     "text": [
      "call option price = 8.37\n",
      "put  option price = 3.61\n"
     ]
    }
   ],
   "source": [
    "S0 = 50; K = 50; r = 0.1; sigma = 0.3; T = 1\n",
    "c = call_price(S0, K, r, sigma, T)\n",
    "p = put_price(S0, K, r, sigma, T)\n",
    "print('call option price = {:.2f}'.format(c))\n",
    "print('put  option price = {:.2f}'.format(p))"
   ]
  },
  {
   "cell_type": "markdown",
   "metadata": {},
   "source": [
    "### (b) geometric Brownian motion model w/ Box-Muller method\n",
    "### (c) geometric Brownian motion model w/ Beasley-Springer-Moro algorithm"
   ]
  },
  {
   "cell_type": "code",
   "execution_count": 59,
   "metadata": {
    "ExecuteTime": {
     "end_time": "2019-05-24T08:04:08.985081Z",
     "start_time": "2019-05-24T08:04:08.961816Z"
    }
   },
   "outputs": [],
   "source": [
    "def gbm(S0, K, r, sigma, T):\n",
    "    ''' QMC generation of geometric brownian motion (GBM) '''\n",
    "    \n",
    "    N = 10000\n",
    "    n = 10\n",
    "    seq = rand.rand_seq\n",
    "    seq = halton.halton_seq\n",
    "    seq = bfs.bfs_seq\n",
    "    \n",
    "    dt = T/n\n",
    "\n",
    "    #M = bm.box_muller_seq(s=n, N=N, seq=seq)\n",
    "    M = moro.beasley_springer_moro_seq(s=n, N=N, seq=seq)\n",
    "\n",
    "    paths = []\n",
    "    \n",
    "    for j in range(1, N+1):\n",
    "        S = [0]*(n+1)\n",
    "        S[0] = S0\n",
    "        for t in range(1, n+1):\n",
    "            Z = M[j-1][t-1]\n",
    "            S[t] = S[t - 1]*math.exp((r - 0.5*sigma**2)*dt +\n",
    "                                     sigma*math.sqrt(dt)*Z)\n",
    "        paths.append(S)\n",
    "        \n",
    "    return paths"
   ]
  },
  {
   "cell_type": "code",
   "execution_count": 60,
   "metadata": {
    "ExecuteTime": {
     "end_time": "2019-05-24T08:04:09.005073Z",
     "start_time": "2019-05-24T08:04:08.989258Z"
    }
   },
   "outputs": [],
   "source": [
    "def stock_price(STs):\n",
    "    mean = numpy.mean(STs)\n",
    "    print('stock price = {:.2f}'.format(mean))\n",
    "    return mean\n",
    "\n",
    "def call_payoff(STs):\n",
    "    payoffs = [max(ST - K, 0) for ST in STs]\n",
    "    mean = numpy.mean(payoffs)\n",
    "    print('call option payoff = {:.2f}'.format(mean))\n",
    "    return mean\n",
    "\n",
    "def call_price(mean):\n",
    "    discount_factor = math.exp(-r * T)\n",
    "    mean *= discount_factor\n",
    "    print('call option price = {:.2f}'.format(mean))\n",
    "    return mean"
   ]
  },
  {
   "cell_type": "code",
   "execution_count": 61,
   "metadata": {
    "ExecuteTime": {
     "end_time": "2019-05-24T08:04:18.682444Z",
     "start_time": "2019-05-24T08:04:09.011920Z"
    },
    "scrolled": false
   },
   "outputs": [
    {
     "name": "stdout",
     "output_type": "stream",
     "text": [
      "0--------------------------------\n",
      "stock price = 55.25\n",
      "call option payoff = 9.24\n",
      "call option price = 8.36\n",
      "1--------------------------------\n",
      "stock price = 55.31\n",
      "call option payoff = 9.33\n",
      "call option price = 8.44\n",
      "2--------------------------------\n",
      "stock price = 55.19\n",
      "call option payoff = 9.14\n",
      "call option price = 8.27\n",
      "3--------------------------------\n",
      "stock price = 55.28\n",
      "call option payoff = 9.31\n",
      "call option price = 8.42\n",
      "4--------------------------------\n",
      "stock price = 55.29\n",
      "call option payoff = 9.29\n",
      "call option price = 8.40\n",
      "5--------------------------------\n",
      "stock price = 55.29\n",
      "call option payoff = 9.30\n",
      "call option price = 8.42\n",
      "6--------------------------------\n",
      "stock price = 55.20\n",
      "call option payoff = 9.12\n",
      "call option price = 8.25\n",
      "7--------------------------------\n",
      "stock price = 55.27\n",
      "call option payoff = 9.24\n",
      "call option price = 8.36\n",
      "8--------------------------------\n",
      "stock price = 55.30\n",
      "call option payoff = 9.32\n",
      "call option price = 8.44\n",
      "9--------------------------------\n",
      "stock price = 55.27\n",
      "call option payoff = 9.28\n",
      "call option price = 8.40\n",
      "10--------------------------------\n",
      "stock price = 55.26\n",
      "call option payoff = 9.25\n",
      "call option price = 8.37\n",
      "11--------------------------------\n",
      "stock price = 55.29\n",
      "call option payoff = 9.30\n",
      "call option price = 8.42\n",
      "12--------------------------------\n",
      "stock price = 55.27\n",
      "call option payoff = 9.25\n",
      "call option price = 8.37\n",
      "13--------------------------------\n",
      "stock price = 55.24\n",
      "call option payoff = 9.20\n",
      "call option price = 8.32\n",
      "14--------------------------------\n",
      "stock price = 55.25\n",
      "call option payoff = 9.21\n",
      "call option price = 8.34\n",
      "15--------------------------------\n",
      "stock price = 55.26\n",
      "call option payoff = 9.26\n",
      "call option price = 8.37\n",
      "16--------------------------------\n",
      "stock price = 55.25\n",
      "call option payoff = 9.21\n",
      "call option price = 8.33\n",
      "17--------------------------------\n",
      "stock price = 55.18\n",
      "call option payoff = 9.10\n",
      "call option price = 8.23\n",
      "18--------------------------------\n",
      "stock price = 55.23\n",
      "call option payoff = 9.20\n",
      "call option price = 8.32\n",
      "19--------------------------------\n",
      "stock price = 55.29\n",
      "call option payoff = 9.32\n",
      "call option price = 8.43\n",
      "20--------------------------------\n",
      "stock price = 55.30\n",
      "call option payoff = 9.30\n",
      "call option price = 8.41\n",
      "21--------------------------------\n",
      "stock price = 55.33\n",
      "call option payoff = 9.39\n",
      "call option price = 8.49\n",
      "22--------------------------------\n",
      "stock price = 55.28\n",
      "call option payoff = 9.32\n",
      "call option price = 8.43\n",
      "23--------------------------------\n",
      "stock price = 55.27\n",
      "call option payoff = 9.28\n",
      "call option price = 8.40\n",
      "24--------------------------------\n",
      "stock price = 55.27\n",
      "call option payoff = 9.29\n",
      "call option price = 8.40\n",
      "25--------------------------------\n",
      "stock price = 55.29\n",
      "call option payoff = 9.27\n",
      "call option price = 8.39\n",
      "26--------------------------------\n",
      "stock price = 55.26\n",
      "call option payoff = 9.24\n",
      "call option price = 8.37\n",
      "27--------------------------------\n",
      "stock price = 55.27\n",
      "call option payoff = 9.29\n",
      "call option price = 8.40\n",
      "28--------------------------------\n",
      "stock price = 55.28\n",
      "call option payoff = 9.30\n",
      "call option price = 8.41\n",
      "29--------------------------------\n",
      "stock price = 55.26\n",
      "call option payoff = 9.27\n",
      "call option price = 8.39\n",
      "30--------------------------------\n",
      "stock price = 55.25\n",
      "call option payoff = 9.23\n",
      "call option price = 8.35\n",
      "31--------------------------------\n",
      "stock price = 55.21\n",
      "call option payoff = 9.18\n",
      "call option price = 8.31\n",
      "32--------------------------------\n",
      "stock price = 55.32\n",
      "call option payoff = 9.35\n",
      "call option price = 8.46\n",
      "33--------------------------------\n",
      "stock price = 55.26\n",
      "call option payoff = 9.26\n",
      "call option price = 8.38\n",
      "34--------------------------------\n",
      "stock price = 55.32\n",
      "call option payoff = 9.34\n",
      "call option price = 8.45\n",
      "35--------------------------------\n",
      "stock price = 55.27\n",
      "call option payoff = 9.29\n",
      "call option price = 8.41\n",
      "36--------------------------------\n",
      "stock price = 55.30\n",
      "call option payoff = 9.34\n",
      "call option price = 8.45\n",
      "37--------------------------------\n",
      "stock price = 55.25\n",
      "call option payoff = 9.22\n",
      "call option price = 8.34\n",
      "38--------------------------------\n",
      "stock price = 55.30\n",
      "call option payoff = 9.32\n",
      "call option price = 8.43\n",
      "39--------------------------------\n",
      "stock price = 55.29\n",
      "call option payoff = 9.30\n",
      "call option price = 8.41\n"
     ]
    }
   ],
   "source": [
    "# run the simulation 40 times\n",
    "N = 40\n",
    "prices = []\n",
    "for i in range(N):\n",
    "\n",
    "    print('{}--------------------------------'.format(i))\n",
    "    paths = gbm(S0, K, r, sigma, T)\n",
    "    STs = [path[-1] for path in paths]\n",
    "    STs = numpy.array(STs)\n",
    "\n",
    "    stock_price(STs)\n",
    "    mean = call_payoff(STs)\n",
    "    mean = call_price(mean)\n",
    "    prices.append(mean)"
   ]
  },
  {
   "cell_type": "code",
   "execution_count": 62,
   "metadata": {
    "ExecuteTime": {
     "end_time": "2019-05-24T08:04:18.707626Z",
     "start_time": "2019-05-24T08:04:18.693370Z"
    }
   },
   "outputs": [
    {
     "name": "stdout",
     "output_type": "stream",
     "text": [
      "mean = 8.38397498159\n",
      "variance = 0.00311063485515\n",
      "standard deviation = 5.58e-02\n",
      "error = 2.02e-01%\n",
      "average call option price = 8.38\n"
     ]
    }
   ],
   "source": [
    "# compute mean, variance, and standard deviation\n",
    "mean = numpy.mean(prices)\n",
    "var = numpy.var(prices)\n",
    "std = numpy.std(prices)\n",
    "exact = c\n",
    "error = abs(mean - exact) / exact * 100\n",
    "print('mean = {}'.format(mean))\n",
    "print('variance = {}'.format(var))\n",
    "print('standard deviation = {:.2e}'.format(std))\n",
    "print('error = {:.2e}%'.format(error))\n",
    "print('average call option price = {:.2f}'.format(mean))"
   ]
  },
  {
   "cell_type": "markdown",
   "metadata": {},
   "source": [
    "Statistic:    \n",
    "10.00: 1.760    \n",
    "5.000: 2.323  \n",
    "2.500: 2.904  \n",
    "1.000: 3.690  "
   ]
  },
  {
   "cell_type": "code",
   "execution_count": 63,
   "metadata": {
    "ExecuteTime": {
     "end_time": "2019-05-24T08:04:18.730292Z",
     "start_time": "2019-05-24T08:04:18.714384Z"
    }
   },
   "outputs": [
    {
     "name": "stdout",
     "output_type": "stream",
     "text": [
      "anderson darling = 2.39391926521\n"
     ]
    }
   ],
   "source": [
    "A = anderson.anderson_darling(prices, mean=8.37)\n",
    "print('anderson darling = {}'.format(A))"
   ]
  }
 ],
 "metadata": {
  "kernelspec": {
   "display_name": "Python 2",
   "language": "python",
   "name": "python2"
  },
  "language_info": {
   "codemirror_mode": {
    "name": "ipython",
    "version": 2
   },
   "file_extension": ".py",
   "mimetype": "text/x-python",
   "name": "python",
   "nbconvert_exporter": "python",
   "pygments_lexer": "ipython2",
   "version": "2.7.15rc1"
  },
  "latex_envs": {
   "LaTeX_envs_menu_present": true,
   "autoclose": false,
   "autocomplete": true,
   "bibliofile": "biblio.bib",
   "cite_by": "apalike",
   "current_citInitial": 1,
   "eqLabelWithNumbers": true,
   "eqNumInitial": 1,
   "hotkeys": {
    "equation": "Ctrl-E",
    "itemize": "Ctrl-I"
   },
   "labels_anchors": false,
   "latex_user_defs": false,
   "report_style_numbering": false,
   "user_envs_cfg": false
  }
 },
 "nbformat": 4,
 "nbformat_minor": 2
}
